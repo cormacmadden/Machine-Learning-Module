{
 "cells": [
  {
   "cell_type": "code",
   "execution_count": 21,
   "metadata": {},
   "outputs": [
    {
     "name": "stdout",
     "output_type": "stream",
     "text": [
      "        0     1  2\n",
      "0    0.48 -0.22 -1\n",
      "1   -0.85  0.52 -1\n",
      "2   -0.95 -0.87  1\n",
      "3   -0.65  0.47 -1\n",
      "4    0.77  0.62 -1\n",
      "..    ...   ... ..\n",
      "994 -0.37  0.50 -1\n",
      "995  0.97  0.96 -1\n",
      "996  0.88  0.75 -1\n",
      "997  0.58  0.79 -1\n",
      "998 -0.49  0.74 -1\n",
      "\n",
      "[999 rows x 3 columns]\n"
     ]
    }
   ],
   "source": [
    "import numpy as np\n",
    "import pandas as pd\n",
    "df = pd.read_csv('week2.csv', skiprows=[0], header = None,keep_default_na=False)\n",
    "print(df)\n",
    "X1=df.iloc[:,0]\n",
    "X2=df.iloc[:,1]\n",
    "X=np.column_stack((X1,X2))\n",
    "y=df.iloc[2,:]"
   ]
  }
 ],
 "metadata": {
  "kernelspec": {
   "display_name": "Python 3.7.13 ('ML_env')",
   "language": "python",
   "name": "python3"
  },
  "language_info": {
   "codemirror_mode": {
    "name": "ipython",
    "version": 3
   },
   "file_extension": ".py",
   "mimetype": "text/x-python",
   "name": "python",
   "nbconvert_exporter": "python",
   "pygments_lexer": "ipython3",
   "version": "3.7.13"
  },
  "orig_nbformat": 4,
  "vscode": {
   "interpreter": {
    "hash": "32b1dc8ad1fb39ea5be90e273f638abf213ab954063c5fcfa6c0bb53d8927201"
   }
  }
 },
 "nbformat": 4,
 "nbformat_minor": 2
}
