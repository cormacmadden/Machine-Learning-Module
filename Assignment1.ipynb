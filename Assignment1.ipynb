{
 "cells": [
  {
   "cell_type": "code",
   "execution_count": 13,
   "metadata": {},
   "outputs": [],
   "source": [
    "import numpy as np\n",
    "import math\n",
    "from matplotlib import cm\n",
    "import pandas as pd\n",
    "import scipy as sp\n",
    "import seaborn as sn\n",
    "import matplotlib.pyplot as plt\n",
    "import matplotlib as matlib\n",
    "from sklearn.linear_model import LinearRegression\n",
    "from sklearn.linear_model import LogisticRegression\n",
    "df = pd.read_csv('week2.csv', skiprows=[0], header = None,keep_default_na=False)\n",
    "df.columns = [\"x_1\",\"x_2\",\"y\"]\n",
    "Xtest = df.iloc[:,0:2]\n",
    "X1=df.iloc[:,0]\n",
    "X2=df.iloc[:,1]\n",
    "classifier=df.iloc[:,2]\n",
    "X=np.column_stack((X1,X2))\n",
    "colors = np.where(df[\"y\"]==1,'blue','green')\n",
    "plt.rc('font', size =16)\n",
    "df.isnull();\n",
    "\n",
    "part = int(0.9 * len(classifier))\n",
    "#testing dataset\n",
    "x_test, y_test = X[part:], classifier[part:]"
   ]
  },
  {
   "cell_type": "code",
   "execution_count": 14,
   "metadata": {},
   "outputs": [
    {
     "name": "stdout",
     "output_type": "stream",
     "text": [
      "LogisticRegression(penalty='none')\n",
      "[[-0.27441454 -5.54101844]]\n",
      "[-1.73749771]\n",
      "2\n",
      "[-1  1]\n"
     ]
    },
    {
     "ename": "TypeError",
     "evalue": "can only concatenate list (not \"float\") to list",
     "output_type": "error",
     "traceback": [
      "\u001b[1;31m---------------------------------------------------------------------------\u001b[0m",
      "\u001b[1;31mTypeError\u001b[0m                                 Traceback (most recent call last)",
      "\u001b[1;32m<ipython-input-14-863eb107bd5d>\u001b[0m in \u001b[0;36m<module>\u001b[1;34m\u001b[0m\n\u001b[0;32m     35\u001b[0m \u001b[0mypred\u001b[0m \u001b[1;33m=\u001b[0m \u001b[0mmodel\u001b[0m\u001b[1;33m.\u001b[0m\u001b[0mpredict\u001b[0m\u001b[1;33m(\u001b[0m\u001b[0mX\u001b[0m\u001b[1;33m)\u001b[0m\u001b[1;31m#he is predicting just the Y data and so can draw the graph. I need to calculate the Y with the corresponding highest probability, and then pred\u001b[0m\u001b[1;33m\u001b[0m\u001b[1;33m\u001b[0m\u001b[0m\n\u001b[0;32m     36\u001b[0m \u001b[0mzeros\u001b[0m\u001b[1;33m=\u001b[0m\u001b[1;33m[\u001b[0m\u001b[1;36m0\u001b[0m\u001b[1;33m,\u001b[0m\u001b[1;36m0\u001b[0m\u001b[1;33m,\u001b[0m\u001b[1;36m0\u001b[0m\u001b[1;33m,\u001b[0m\u001b[1;36m0\u001b[0m\u001b[1;33m,\u001b[0m\u001b[1;36m0\u001b[0m\u001b[1;33m,\u001b[0m\u001b[1;36m0\u001b[0m\u001b[1;33m,\u001b[0m\u001b[1;36m0\u001b[0m\u001b[1;33m,\u001b[0m\u001b[1;36m0\u001b[0m\u001b[1;33m,\u001b[0m\u001b[1;36m0\u001b[0m\u001b[1;33m,\u001b[0m\u001b[1;36m0\u001b[0m\u001b[1;33m,\u001b[0m\u001b[1;36m0\u001b[0m\u001b[1;33m,\u001b[0m\u001b[1;36m0\u001b[0m\u001b[1;33m,\u001b[0m\u001b[1;36m0\u001b[0m\u001b[1;33m,\u001b[0m\u001b[1;36m0\u001b[0m\u001b[1;33m,\u001b[0m\u001b[1;36m0\u001b[0m\u001b[1;33m,\u001b[0m\u001b[1;36m0\u001b[0m\u001b[1;33m,\u001b[0m\u001b[1;36m0\u001b[0m\u001b[1;33m,\u001b[0m\u001b[1;36m0\u001b[0m\u001b[1;33m,\u001b[0m\u001b[1;36m0\u001b[0m\u001b[1;33m,\u001b[0m\u001b[1;36m0\u001b[0m\u001b[1;33m,\u001b[0m\u001b[1;36m0\u001b[0m\u001b[1;33m]\u001b[0m\u001b[1;33m\u001b[0m\u001b[1;33m\u001b[0m\u001b[0m\n\u001b[1;32m---> 37\u001b[1;33m \u001b[0mpredictTest\u001b[0m \u001b[1;33m=\u001b[0m\u001b[0mnp\u001b[0m\u001b[1;33m.\u001b[0m\u001b[0mcolumn_stack\u001b[0m\u001b[1;33m(\u001b[0m\u001b[1;33m(\u001b[0m\u001b[0mzeros\u001b[0m\u001b[1;33m,\u001b[0m\u001b[0ma\u001b[0m\u001b[1;33m+\u001b[0m\u001b[1;36m0.4\u001b[0m\u001b[1;33m)\u001b[0m\u001b[1;33m)\u001b[0m\u001b[1;33m\u001b[0m\u001b[1;33m\u001b[0m\u001b[0m\n\u001b[0m\u001b[0;32m     38\u001b[0m \u001b[1;33m\u001b[0m\u001b[0m\n\u001b[0;32m     39\u001b[0m \u001b[0my_r\u001b[0m \u001b[1;33m=\u001b[0m \u001b[0mmodel\u001b[0m\u001b[1;33m.\u001b[0m\u001b[0mpredict\u001b[0m\u001b[1;33m(\u001b[0m\u001b[0mpredictTest\u001b[0m\u001b[1;33m)\u001b[0m\u001b[1;33m\u001b[0m\u001b[1;33m\u001b[0m\u001b[0m\n",
      "\u001b[1;31mTypeError\u001b[0m: can only concatenate list (not \"float\") to list"
     ]
    }
   ],
   "source": [
    "model = LogisticRegression(penalty=\"none\", solver='lbfgs').fit(X,classifier)\n",
    "print(model)\n",
    "# Predict\n",
    "print(model.coef_)\n",
    "print(model.intercept_)\n",
    "print(model.n_features_in_)\n",
    "print(model.classes_)\n",
    "\n",
    "def logitFunction(x1,x2):\n",
    "    formula = model.intercept_[0] + model.coef_[0,0]*x1 + model.coef_[0,1]*x2\n",
    "    return formula\n",
    "    \n",
    "def probFunction(x1,x2):\n",
    "    result = 1/(1+np.exp(-1*logitFunction(x1,x2)))\n",
    "    return result\n",
    "\n",
    "offset = -model.intercept_ / model.coef_[0,1]\n",
    "m = -1*model.coef_[0,0]/model.coef_[0,1]\n",
    "\n",
    "a=[-1.0,-0.9,-0.8,-0.7,-0.6,-0.5,-0.4,-0.3,-0.2,-0.1,0.0,0.1,0.2,0.3,0.4,0.5,0.6,0.7,0.8,0.9,1.0]\n",
    "b=[]\n",
    "c=[];\n",
    "for x in a:\n",
    "    #y = 0 + offset*x + 2*(m**2)\n",
    "    #y = (model.coef_[0,0]*model.coef_[0,1]) - (model.coef_[0,0]+model.coef_[0,1])*x + x**2\n",
    "    #b.append(y)\n",
    "    ##a.append(x)\n",
    "    #y = model.intercept_ + model.coef_[0,0]*x + model.coef_[0,1]*x**2\n",
    "    for y in a:\n",
    "        pred = probFunction(x,y)\n",
    "        c.append(pred)\n",
    "    b.append(min(c))\n",
    "    c=[]\n",
    "\n",
    "ypred = model.predict(X)#he is predicting just the Y data and so can draw the graph. I need to calculate the Y with the corresponding highest probability, and then pred\n",
    "zeros=[0,0,0,0,0,0,0,0,0,0,0,0,0,0,0,0,0,0,0,0,0]\n",
    "predictTest =np.column_stack((zeros,a+0.4))\n",
    "\n",
    "y_r = model.predict(predictTest)\n",
    "#print('score: ', model.score(a, b))\n",
    "\n",
    "    \n",
    "print(\"logitFunction\")\n",
    "print(logitFunction(0,0))\n",
    "print(\"probFunction\")\n",
    "print(probFunction(0,0))\n",
    "testPoint = [-0.5,0.5]\n",
    "plt.scatter(X1,X2, c = colors)\n",
    "plt.scatter(X1,X2, c = colors)\n",
    "plt.legend([\"green\",\"blue\",\"black\",])\n",
    "#plt.plot(a,b, linewidth =3, color = \"black\")\n",
    "plt.scatter(testPoint[0],testPoint[1], color = \"red\")\n",
    "#plt.plot(line_x,line_y, linewidth =3, color = \"black\")\n",
    "\n",
    "plt.xlabel(\"x_1\")\n",
    "plt.ylabel(\"x_2\")\n",
    "\n",
    "plt.show()"
   ]
  }
 ],
 "metadata": {
  "kernelspec": {
   "display_name": "Python 3.7.13 ('ML_env')",
   "language": "python",
   "name": "python3"
  },
  "language_info": {
   "codemirror_mode": {
    "name": "ipython",
    "version": 3
   },
   "file_extension": ".py",
   "mimetype": "text/x-python",
   "name": "python",
   "nbconvert_exporter": "python",
   "pygments_lexer": "ipython3",
   "version": "3.7.13"
  },
  "orig_nbformat": 4,
  "vscode": {
   "interpreter": {
    "hash": "32b1dc8ad1fb39ea5be90e273f638abf213ab954063c5fcfa6c0bb53d8927201"
   }
  }
 },
 "nbformat": 4,
 "nbformat_minor": 2
}
